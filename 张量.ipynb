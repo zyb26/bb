{
 "cells": [
  {
   "cell_type": "markdown",
   "metadata": {},
   "source": [
    "张量和numpy很像，但是张量可以在GPU上运行\n",
    "张量可以和numpy共享同一块内存-->改变张量会改变numpy"
   ]
  },
  {
   "cell_type": "code",
   "execution_count": null,
   "metadata": {},
   "outputs": [],
   "source": [
    "import torch\n",
    "import numpy as np"
   ]
  },
  {
   "cell_type": "markdown",
   "metadata": {},
   "source": [
    "列表创建张量 torch.float64"
   ]
  },
  {
   "cell_type": "code",
   "execution_count": null,
   "metadata": {},
   "outputs": [],
   "source": [
    "data = [[1, 2], [2, 3]]\n",
    "b = torch.tensor(data)\n",
    "\n",
    "print(b)\n",
    "print(type(b))  # b的类型\n",
    "print(b.dtype)  # 数据类型"
   ]
  },
  {
   "cell_type": "markdown",
   "metadata": {},
   "source": [
    "数组创建张量"
   ]
  },
  {
   "cell_type": "code",
   "execution_count": null,
   "metadata": {},
   "outputs": [],
   "source": [
    "a = np.random.normal((2, 3))\n",
    "b = torch.tensor(a)\n",
    "c = torch.from_numpy(a)\n",
    "print(b)\n",
    "print(c)"
   ]
  },
  {
   "cell_type": "markdown",
   "metadata": {},
   "source": [
    "张量创建张量"
   ]
  },
  {
   "cell_type": "code",
   "execution_count": null,
   "metadata": {},
   "outputs": [],
   "source": [
    "c = torch.ones_like(b)\n",
    "d = torch.zeros_like(b)\n",
    "e = torch.rand_like(b)\n",
    "f = torch.as_tensor(a)\n",
    "print(c)\n",
    "print(d)\n",
    "print(e)\n",
    "print(f)"
   ]
  },
  {
   "cell_type": "markdown",
   "metadata": {},
   "source": [
    "根据形状来生成张量 torch.float32"
   ]
  },
  {
   "cell_type": "code",
   "execution_count": null,
   "metadata": {},
   "outputs": [],
   "source": [
    "torch.rand((2, 2))\n",
    "torch.ones(2, 2)\n",
    "a = torch.zeros(2, 2)\n",
    "a.dtype\n",
    "a.shape\n",
    "a.device"
   ]
  },
  {
   "cell_type": "markdown",
   "metadata": {},
   "source": [
    "Tensors从Cpu移动到Gpu"
   ]
  },
  {
   "cell_type": "code",
   "execution_count": null,
   "metadata": {},
   "outputs": [],
   "source": [
    "if torch.cuda.is_available():\n",
    "    a = a.to(\"cuda\")\n",
    "a.device"
   ]
  },
  {
   "cell_type": "markdown",
   "metadata": {},
   "source": [
    "张量的100种操作"
   ]
  },
  {
   "cell_type": "markdown",
   "metadata": {},
   "source": [
    "判断语句"
   ]
  },
  {
   "cell_type": "code",
   "execution_count": null,
   "metadata": {},
   "outputs": [],
   "source": [
    "torch.is_tensor(a)\n",
    "torch.is_complex(a)\n",
    "torch.is_nonzero(torch.tensor([0.]))  # 判断非0的标量"
   ]
  },
  {
   "cell_type": "code",
   "execution_count": null,
   "metadata": {},
   "outputs": [],
   "source": [
    "torch.numel(a)  # 所有元素的数量"
   ]
  },
  {
   "cell_type": "markdown",
   "metadata": {},
   "source": [
    "操作"
   ]
  },
  {
   "cell_type": "code",
   "execution_count": null,
   "metadata": {},
   "outputs": [],
   "source": [
    "# 设置全局的tensor数据dtype类型\n",
    "print(torch.tensor([1.2, 3]).dtype)\n",
    "torch.set_default_tensor_type(torch.DoubleTensor)\n",
    "torch.tensor([1.2, 3]).dtype\n",
    "torch.tensor([1.2, 3], dtype=torch.int32)"
   ]
  },
  {
   "cell_type": "markdown",
   "metadata": {},
   "source": [
    "区别"
   ]
  },
  {
   "cell_type": "code",
   "execution_count": null,
   "metadata": {},
   "outputs": [],
   "source": [
    "torch.arange(0, 5, 2)  # 开始是0， 结束是5， 步长为2 类型是int\n",
    "torch.arange(5)        # 开始是0， 结束是5， 步长是1\n",
    "torch.range(0, 5)      # 比arrange长1个单位，必须要有起始值 类型是float32\n",
    "for i in torch.arange(10):\n",
    "    print(f\"epoch:{i}\")"
   ]
  },
  {
   "cell_type": "markdown",
   "metadata": {},
   "source": [
    "区别"
   ]
  },
  {
   "cell_type": "code",
   "execution_count": null,
   "metadata": {},
   "outputs": [],
   "source": [
    "torch.linspace(0, 10, 5) # 产生几个数\n",
    "torch.arange(0, 10, 5)  # 步长是5"
   ]
  },
  {
   "cell_type": "markdown",
   "metadata": {},
   "source": [
    "生成方法"
   ]
  },
  {
   "cell_type": "code",
   "execution_count": null,
   "metadata": {},
   "outputs": [],
   "source": [
    "torch.eye(3) # 入参是n, m 不传m就是方阵 \n",
    "c =torch.empty(2, 3)  # 感觉和torch.zeros一样\n",
    "torch.full((2, 3), 1025)\n",
    "torch.full_like(c, 1025)"
   ]
  },
  {
   "cell_type": "markdown",
   "metadata": {},
   "source": [
    "cat用法 在哪个维度拼接 其余维度形状必须一致"
   ]
  },
  {
   "cell_type": "code",
   "execution_count": null,
   "metadata": {},
   "outputs": [],
   "source": [
    "a = torch.rand(2, 3, 5)\n",
    "b = torch.ones(2, 7, 5)\n",
    "torch.cat((a, b), dim=1)"
   ]
  }
 ],
 "metadata": {
  "kernelspec": {
   "display_name": "bb",
   "language": "python",
   "name": "python3"
  },
  "language_info": {
   "codemirror_mode": {
    "name": "ipython",
    "version": 3
   },
   "file_extension": ".py",
   "mimetype": "text/x-python",
   "name": "python",
   "nbconvert_exporter": "python",
   "pygments_lexer": "ipython3",
   "version": "3.10.11"
  }
 },
 "nbformat": 4,
 "nbformat_minor": 2
}
