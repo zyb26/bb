{
 "cells": [
  {
   "cell_type": "markdown",
   "metadata": {},
   "source": [
    "chunk 将张量进行拆分为特定的 拆分后的每个张量都是原来的一种特殊视觉"
   ]
  },
  {
   "cell_type": "code",
   "execution_count": null,
   "metadata": {},
   "outputs": [],
   "source": [
    "import torch"
   ]
  },
  {
   "cell_type": "code",
   "execution_count": null,
   "metadata": {},
   "outputs": [],
   "source": [
    "a = torch.rand(3, 4, 2)\n",
    "if torch.cuda.is_available:\n",
    "    a=a.to(\"cuda\")\n",
    "# 2, 1\n",
    "c, d = torch.chunk(a, chunks=2)  # 默认dim=0\n",
    "print(c)\n",
    "print(d)"
   ]
  },
  {
   "cell_type": "markdown",
   "metadata": {},
   "source": [
    "dstack 按列拼接 作用在第二维 0， 1， 2"
   ]
  },
  {
   "cell_type": "code",
   "execution_count": null,
   "metadata": {},
   "outputs": [],
   "source": [
    "a = torch.tensor([[1], [2], [3]])\n",
    "b = torch.tensor([[2],[3],[4]])\n",
    "print(a.shape)\n",
    "print(torch.dstack((a, b)).shape)\n",
    "print(torch.hstack((a, b)).shape)"
   ]
  },
  {
   "cell_type": "code",
   "execution_count": null,
   "metadata": {},
   "outputs": [],
   "source": [
    "a = torch.tensor([1, 2, 3])\n",
    "print(a.shape)\n",
    "b = torch.tensor([2, 3, 4])\n",
    "torch.dstack((a, b)).shape\n",
    "torch.hstack((a, b)).shape"
   ]
  },
  {
   "cell_type": "code",
   "execution_count": null,
   "metadata": {},
   "outputs": [],
   "source": [
    "a = torch.rand(2, 3, 4, 5, 7)\n",
    "b = torch.rand(2, 3, 4, 5, 7)\n",
    "torch.dstack((a, b)).shape"
   ]
  },
  {
   "cell_type": "markdown",
   "metadata": {},
   "source": [
    "hstack 作用在 第一维度 直接拼接"
   ]
  },
  {
   "cell_type": "code",
   "execution_count": null,
   "metadata": {},
   "outputs": [],
   "source": [
    "torch.hstack((a, b)).shape"
   ]
  },
  {
   "cell_type": "markdown",
   "metadata": {},
   "source": [
    "gather 把生成数据的索引按照dim改成输入的索引的值 参考https://zhuanlan.zhihu.com/p/352877584"
   ]
  },
  {
   "cell_type": "code",
   "execution_count": null,
   "metadata": {},
   "outputs": [],
   "source": [
    "t = torch.tensor([[1, 2], [3, 4]])\n",
    "\n",
    "torch.gather(t, 1, torch.tensor([[0, 0], [1, 0]]))\n",
    "# 生成的是（0， 0）（0， 1）（1， 0）（1， 1）\n",
    "# dim = 1   则替换为 （0， 0） （0， 0） （1， 1）（1， 0）\n",
    "# dim = 0   则替换为 （0， 0） （0， 1） （1， 0）（1， 0）"
   ]
  },
  {
   "cell_type": "markdown",
   "metadata": {},
   "source": [
    "reshape 函数 能够得到相同数据的张量  元素的顺序不会改变"
   ]
  },
  {
   "cell_type": "code",
   "execution_count": null,
   "metadata": {},
   "outputs": [],
   "source": [
    "a = torch.arange(4, )\n",
    "torch.reshape(a, (2, 2))\n",
    "b = torch.tensor([[0, 1], [2, 3]])\n",
    "torch.reshape(b, (-1, ))\n"
   ]
  },
  {
   "cell_type": "markdown",
   "metadata": {},
   "source": [
    "scatter和gather很像 先是索引去src中获取值 然后再把src的索引按照index和dim进行替换 然后索引到对象的index替换为获取的值"
   ]
  },
  {
   "cell_type": "code",
   "execution_count": null,
   "metadata": {},
   "outputs": [],
   "source": [
    "src = torch.arange(1, 11).reshape((2, 5))\n",
    "index = torch.tensor([[0, 1, 2, 0]])\n",
    "torch.zeros(3, 5, dtype=src.dtype).scatter_(0, index, src)"
   ]
  },
  {
   "cell_type": "markdown",
   "metadata": {},
   "source": [
    "split 和chunk很像 里面可以传列表 进行划分"
   ]
  },
  {
   "cell_type": "code",
   "execution_count": null,
   "metadata": {},
   "outputs": [],
   "source": [
    "a = torch.rand(5, 3, 2)\n",
    "torch.split(a, [4, 1])"
   ]
  },
  {
   "cell_type": "markdown",
   "metadata": {},
   "source": [
    "squeeze和reshape类似 可以去除形状为1的"
   ]
  },
  {
   "cell_type": "code",
   "execution_count": 29,
   "metadata": {},
   "outputs": [
    {
     "data": {
      "text/plain": [
       "torch.Size([5, 3, 2, 1, 1])"
      ]
     },
     "execution_count": 29,
     "metadata": {},
     "output_type": "execute_result"
    }
   ],
   "source": [
    "b = torch.reshape(a, [5, 3, 1, 2, 1, 1])\n",
    "torch.squeeze(b, dim=2).shape"
   ]
  },
  {
   "cell_type": "markdown",
   "metadata": {},
   "source": [
    "stack dim=1 有点像zip 堆叠起来维度有扩充\n",
    "cat 是直接连起来"
   ]
  },
  {
   "cell_type": "code",
   "execution_count": 36,
   "metadata": {},
   "outputs": [
    {
     "data": {
      "text/plain": [
       "torch.Size([2, 3, 2])"
      ]
     },
     "execution_count": 36,
     "metadata": {},
     "output_type": "execute_result"
    }
   ],
   "source": [
    "a = torch.rand(3, 2)\n",
    "b = torch.rand(3, 2)\n",
    "torch.stack([a, b], dim=0).shape"
   ]
  }
 ],
 "metadata": {
  "kernelspec": {
   "display_name": "bb",
   "language": "python",
   "name": "python3"
  },
  "language_info": {
   "codemirror_mode": {
    "name": "ipython",
    "version": 3
   },
   "file_extension": ".py",
   "mimetype": "text/x-python",
   "name": "python",
   "nbconvert_exporter": "python",
   "pygments_lexer": "ipython3",
   "version": "3.10.11"
  }
 },
 "nbformat": 4,
 "nbformat_minor": 2
}
